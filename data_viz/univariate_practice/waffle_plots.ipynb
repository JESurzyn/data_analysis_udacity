{
 "cells": [
  {
   "cell_type": "code",
   "execution_count": 1,
   "id": "drawn-jason",
   "metadata": {},
   "outputs": [],
   "source": [
    "import pandas as pd\n",
    "import numpy as np\n",
    "import matplotlib.pyplot as plt\n",
    "import seaborn as sns\n",
    "%matplotlib inline"
   ]
  },
  {
   "cell_type": "markdown",
   "id": "reverse-arabic",
   "metadata": {},
   "source": [
    "### percentage_blocks function\n",
    "the function below uses a rule where eachj category gets a number of blocks equal to the number of full percentage points it covers.  The remaining blocks to get to the full one hundred are assigned to the categories with the largest fractional parts"
   ]
  },
  {
   "cell_type": "code",
   "execution_count": 3,
   "id": "understood-somalia",
   "metadata": {},
   "outputs": [],
   "source": [
    "def percentage_blocks(df, var):\n",
    "    \"\"\"\n",
    "    Take as input a dataframe and variable, and return a Pandas series with approximate percentage values\n",
    "    for filling out a waffle plot.\n",
    "    \"\"\"\n",
    "    # compute base quotas\n",
    "    percentages = 100 * df[var].value_counts() / df.shape[0]\n",
    "    counts = np.floor(percentages).astype(int) #integer part = minimum quota\n",
    "    decimal = (percentages - counts).sort_values(ascending = False)\n",
    "    \n",
    "    #add in additional counts to reach 100\n",
    "    rem= 100 - counts.sum()\n",
    "    for cat in decimal.index[:rem]:\n",
    "        counts[cat] += 1\n",
    "    \n",
    "    return counts"
   ]
  },
  {
   "cell_type": "markdown",
   "id": "alleged-entity",
   "metadata": {},
   "source": [
    "### plotting counts as boxes in waffle plot form"
   ]
  },
  {
   "cell_type": "code",
   "execution_count": null,
   "id": "yellow-cameroon",
   "metadata": {},
   "outputs": [],
   "source": [
    "waffle_counts = percentage_blocks(df, 'cat_var')\n",
    "\n",
    "prev_count = 0\n",
    "# for each category,\n",
    "for cat in range(waffle_counts.shape[0]):\n",
    "    # get the block indices\n",
    "    blocks = np.arange(prev_count, prev_count + waffle_counts[cat])\n",
    "    # and put a block at each index's location\n",
    "    x = blocks % 10 # use mod operation to get ones digit\n",
    "    y = blocks // 10 # use floor division to get tens digit\n",
    "    plt.bar(x = x, height = 0.8, width = 0.8, bottom = y)\n",
    "    prev_count += waffle_counts[cat]\n",
    "    \n",
    "# aesthetic wrangling\n",
    "plt.legend(waffle_counts.index, bbox_to_anchor = (1, 0.5), loc = 6)\n",
    "plt.axis('off')\n",
    "plt.axis('square')"
   ]
  },
  {
   "cell_type": "markdown",
   "id": "ambient-money",
   "metadata": {},
   "source": [
    "### waffle plots to show absolute frequencies"
   ]
  },
  {
   "cell_type": "code",
   "execution_count": null,
   "id": "concrete-shadow",
   "metadata": {},
   "outputs": [],
   "source": [
    "# each box represents five full counts\n",
    "waffle_counts = (df['cat_var'].value_counts() / 5).astype(int)\n",
    "\n",
    "prev_count = 0\n",
    "# for each category,\n",
    "for cat in range(waffle_counts.shape[0]):\n",
    "    # get the block indices\n",
    "    blocks = np.arange(prev_count, prev_count + waffle_counts[cat])\n",
    "    # and put a block at each index's location\n",
    "    x = blocks % 10\n",
    "    y = blocks // 10\n",
    "    plt.bar(y, 0.8, 0.8, x)\n",
    "    prev_count += waffle_counts[cat]\n",
    "\n",
    "# box size legend\n",
    "plt.bar(7.5, 0.8, 0.8, 2, color = 'white', edgecolor = 'black', lw = 2)\n",
    "plt.text(8.1, 2.4,'= 5 data points', va = 'center')\n",
    "\n",
    "# aesthetic wrangling\n",
    "plt.legend(waffle_counts.index, bbox_to_anchor = (0.8, 0.5), loc = 6)\n",
    "plt.axis('off')\n",
    "plt.axis('square')"
   ]
  },
  {
   "cell_type": "markdown",
   "id": "radical-forum",
   "metadata": {},
   "source": [
    "### Additional Resources\n",
    "You don't actually need to go through all of the code wrangling shown above to create waffle plots in Python. The [PyWaffle](https://github.com/gyli/PyWaffle) package can be used with Matplotlib's ```figure``` function to create waffle plots, with a few options for the orientation and order of icons, but you'll need to install it separately since it's not a major package. One of the main reasons why I didn't use it above is that the syntax for using it is very different from what you've seen and will see in this course. If you want to make use of the library, check out the examples on the linked GitHub page."
   ]
  },
  {
   "cell_type": "code",
   "execution_count": null,
   "id": "endless-indication",
   "metadata": {},
   "outputs": [],
   "source": []
  }
 ],
 "metadata": {
  "kernelspec": {
   "display_name": "Python 3",
   "language": "python",
   "name": "python3"
  },
  "language_info": {
   "codemirror_mode": {
    "name": "ipython",
    "version": 3
   },
   "file_extension": ".py",
   "mimetype": "text/x-python",
   "name": "python",
   "nbconvert_exporter": "python",
   "pygments_lexer": "ipython3",
   "version": "3.8.8"
  }
 },
 "nbformat": 4,
 "nbformat_minor": 5
}
