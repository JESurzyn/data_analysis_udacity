{
 "cells": [
  {
   "cell_type": "markdown",
   "id": "expensive-avatar",
   "metadata": {},
   "source": [
    "### proportions using group by and contingency tables"
   ]
  },
  {
   "cell_type": "code",
   "execution_count": null,
   "id": "agricultural-cornwall",
   "metadata": {},
   "outputs": [],
   "source": [
    "count_type_df = pkmn_types.groupby('type')[['id']].count().sort_values('id',ascending=False)"
   ]
  },
  {
   "cell_type": "code",
   "execution_count": null,
   "id": "thousand-twenty",
   "metadata": {},
   "outputs": [],
   "source": [
    "#creating proportion column\n",
    "count_type_df['proportion'] = count_type_df['id'].apply(lambda x:x/n_pokemon).round(2)\n",
    "count_type_df"
   ]
  },
  {
   "cell_type": "code",
   "execution_count": null,
   "id": "ranging-dividend",
   "metadata": {},
   "outputs": [],
   "source": [
    "#renaming id column to count\n",
    "count_type_df.rename(columns = {'id':'count'}, inplace=True)\n",
    "count_type_df"
   ]
  },
  {
   "cell_type": "code",
   "execution_count": null,
   "id": "continuing-appliance",
   "metadata": {},
   "outputs": [],
   "source": [
    "#resetting index\n",
    "count_type_df.reset_index(inplace=True)"
   ]
  },
  {
   "cell_type": "code",
   "execution_count": null,
   "id": "fallen-domain",
   "metadata": {},
   "outputs": [],
   "source": [
    "#new chart\n",
    "#Return the Series having unique values\n",
    "x = count_type_df['type']\n",
    "\n",
    "#Return the series having frequency count of each unique value\n",
    "y = count_type_df['proportion']\n",
    "\n",
    "#the plot itself\n",
    "plt.barh(x,y)\n",
    "\n",
    "#Labeling the axes\n",
    "plt.xlabel('proportion')\n",
    "plt.ylabel('type')\n",
    "\n",
    "#displaying the plot\n",
    "plt.show();"
   ]
  },
  {
   "cell_type": "code",
   "execution_count": null,
   "id": "expected-citizen",
   "metadata": {},
   "outputs": [],
   "source": [
    "#flipping order\n",
    "count_type_df.sort_values('proportion', inplace=True)\n",
    "#new chart\n",
    "#Return the Series having unique values\n",
    "x = count_type_df['type']\n",
    "\n",
    "#Return the series having frequency count of each unique value\n",
    "y = count_type_df['proportion']\n",
    "\n",
    "#the plot itself\n",
    "plt.barh(x,y)\n",
    "\n",
    "#Labeling the axes\n",
    "plt.xlabel('proportion')\n",
    "plt.ylabel('type')\n",
    "\n",
    "#displaying the plot\n",
    "plt.show();"
   ]
  },
  {
   "cell_type": "markdown",
   "id": "exposed-ridge",
   "metadata": {},
   "source": [
    "### printing text on the bars of a horizontal plot"
   ]
  },
  {
   "cell_type": "code",
   "execution_count": null,
   "id": "phantom-russell",
   "metadata": {},
   "outputs": [],
   "source": [
    "#printing original countplot of volume per type\n",
    "sns.countplot(data=pkmn_types, y='type', color = base_color, order=type_order)\n",
    "\n",
    "#logic to print the proportion text on the bar\n",
    "for i in range(type_counts.shape[0]): #looping through the length of the array that contains the proportion values\n",
    "    count=type_counts[i]\n",
    "    pct_string = '{:0.1f}%'.format(100*count/n_pokemonn) #converts proportion into percent string\n",
    "    plt.text(count+1, i, pct_string, va='center' ) #prints string on bar\n",
    "    #for more info on text() function see here https://matplotlib.org/3.1.1/api/_as_gen/matplotlib.pyplot.text.html"
   ]
  }
 ],
 "metadata": {
  "kernelspec": {
   "display_name": "Python 3",
   "language": "python",
   "name": "python3"
  },
  "language_info": {
   "codemirror_mode": {
    "name": "ipython",
    "version": 3
   },
   "file_extension": ".py",
   "mimetype": "text/x-python",
   "name": "python",
   "nbconvert_exporter": "python",
   "pygments_lexer": "ipython3",
   "version": "3.8.8"
  }
 },
 "nbformat": 4,
 "nbformat_minor": 5
}
